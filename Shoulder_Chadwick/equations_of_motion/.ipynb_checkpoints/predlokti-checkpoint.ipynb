{
 "cells": [
  {
   "cell_type": "code",
   "execution_count": 1,
   "metadata": {
    "executionInfo": {
     "elapsed": 2787,
     "status": "ok",
     "timestamp": 1717952426058,
     "user": {
      "displayName": "Ondřej Zoufalý",
      "userId": "01394073359303327427"
     },
     "user_tz": -120
    },
    "id": "GLqkf3dJKINE",
    "tags": []
   },
   "outputs": [],
   "source": [
    "import sympy as sp\n",
    "import sympy.physics.mechanics as me\n",
    "\n",
    "# creating constants\n",
    "m,g,IUxx,IUyy,IUzz,IUxy,IUyz,IUzx,IMxx,IMyy,IMzz,IMxy, IMyz, IMzx,ILxx,ILyy,ILzz,ILxy, ILyz, ILzx,c,k = sp.symbols('m g IUxx IUyy IUzz IUxy IUyz IUzx IMxx IMyy IMzz IMxy IMyz IMzx ILxx ILyy ILzz ILxy ILyz ILzx c k')\n",
    "x_cont1,y_cont1,z_cont1,x_cont2,y_cont2,z_cont2, k_contact, mx, my, mz, ax, ay, az, eps  = sp.symbols('x_cont1 y_cont1 z_cont1 x_cont2 y_cont2 z_cont2 k_contact mx my mz ax ay az eps')\n",
    "\n",
    "# creating generalized coordinates, generalized forces and their derivatives\n",
    "q1, q2, q3, q4, q5, q6, q7, q8, q9 = me.dynamicsymbols('q1 q2 q3 q4 q5 q6 q7 q8 q9')\n",
    "q1d, q2d, q3d, q4d, q5d, q6d, q7d, q8d, q9d = me.dynamicsymbols('q1 q2 q3 q4 q5 q6 q7 q8 q9', 1)\n",
    "u1, u2, u3, u4, u5, u6, u7, u8, u9 = me.dynamicsymbols('u1 u2 u3 u4 u5 u6 u7 u8 u9')\n",
    "u1d, u2d, u3d, u4d, u5d, u6d, u7d, u8d, u9d = me.dynamicsymbols('u1 u2 u3 u4 u5 u6 u7 u8 u9', 1)\n",
    "t = sp.Symbol('t')\n",
    "\n",
    "# joint position from child and parent CoM (rigid1C = )\n",
    "rigid0P = sp.symbols('rigid0Px:z')\n",
    "rigid1P = sp.symbols('rigid1Px:z')\n",
    "rigid1C = sp.symbols('rigid1Cx:z')\n",
    "rigid2P = sp.symbols('rigid2Px:z')\n",
    "rigid2C = sp.symbols('rigid2Cx:z')\n",
    "rigid3C = sp.symbols('rigid3Cx:z')\n",
    "\n",
    "# creating bodies\n",
    "clavicle_com = me.Point('clavicle_com')\n",
    "scapula_com = me.Point('scapula_com')\n",
    "humerus_com = me.Point('humerus_com')\n",
    "frame1 = me.ReferenceFrame('frame1')\n",
    "frame2 = me.ReferenceFrame('frame2')\n",
    "frame3 = me.ReferenceFrame('frame3')\n",
    "clavicle_mass, scapula_mass, humerus_mass = sp.symbols('clavicle_mass scapula_mass humerus_mass')\n",
    "thorax = me.Body('Th')\n",
    "body_inertia1 = me.inertia(frame1, IUxx, IUyy, IUzz, IUxy, IUyz, IUzx)\n",
    "body_inertia2 = me.inertia(frame2, IMxx, IMyy, IMzz, IMxy, IMyz, IMzx)\n",
    "body_inertia3 = me.inertia(frame3, ILxx, ILyy, ILzz, ILxy, ILyz, ILzx)\n",
    "\n",
    "clavicula = me.Body('Cl', clavicle_com, clavicle_mass, frame1, body_inertia1)\n",
    "scapula = me.Body('Sc', scapula_com, scapula_mass, frame2, body_inertia2)\n",
    "humerus = me.Body('Hu', humerus_com, humerus_mass, frame3, body_inertia3)\n",
    "\n",
    "# creating joints\n",
    "SC = me.SphericalJoint('SC', thorax, clavicula, \n",
    "                        child_point=rigid1C[0]*clavicula.x+rigid1C[1]*clavicula.y+rigid1C[2]*clavicula.z,\n",
    "                        parent_point=rigid0P[0]*thorax.x+rigid0P[1]*thorax.y+rigid0P[2]*thorax.z,\n",
    "                        coordinates = [q1, q2, q3],\n",
    "                        speeds = [u1, u2, u3],rot_order='231', rot_type = 'body')\n",
    "AC = me.SphericalJoint('AC', clavicula,  scapula,  \n",
    "                        child_point=rigid2C[0]*scapula.x+rigid2C[1]*scapula.y+rigid2C[2]*scapula.z,\n",
    "                        parent_point=rigid1P[0]*clavicula.x+rigid1P[1]*clavicula.y+rigid1P[2]*clavicula.z, \n",
    "                        coordinates = [q4, q5, q6],\n",
    "                        speeds = [u4, u5, u6],rot_order='231', rot_type = 'body')\n",
    "GH = me.SphericalJoint('GH', scapula,  humerus,  \n",
    "                        child_point=rigid3C[0]*humerus.x+rigid3C[1]*humerus.y+rigid3C[2]*humerus.z,\n",
    "                        parent_point=rigid2P[0]*scapula.x+rigid2P[1]*scapula.y+rigid2P[2]*scapula.z, \n",
    "                        coordinates = [q7, q8, q9],\n",
    "                        speeds = [u7, u8, u9],rot_order='232', rot_type = 'body')\n",
    "\n",
    "# applying gravitational forces in Y direction\n",
    "clavicula.apply_force(-thorax.y*clavicula.mass*g)\n",
    "scapula.apply_force(-thorax.y*scapula.mass*g)\n",
    "humerus.apply_force(-thorax.y*humerus.mass*g)\n",
    "\n",
    "# linear springs and dampings in joints\n",
    "# angular velocities in base frame\n",
    "w_clavicula = clavicula.ang_vel_in(thorax.frame)\n",
    "w_scapula = scapula.ang_vel_in(clavicula.frame)\n",
    "w_humerus = humerus.ang_vel_in(scapula.frame)\n",
    "T1 = -c*w_clavicula.dot(frame1.x)*frame1.x\n",
    "T2 = -c*w_clavicula.dot(frame1.y)*frame1.y\n",
    "T3 = -c*w_clavicula.dot(frame1.z)*frame1.z\n",
    "T4 = -c*w_scapula.dot(frame2.x)*frame2.x\n",
    "T5 = -c*w_scapula.dot(frame2.y)*frame2.y\n",
    "T6 = -c*w_scapula.dot(frame2.z)*frame2.z\n",
    "T7 = -c*w_humerus.dot(frame3.x)*frame3.x\n",
    "T8 = -c*w_humerus.dot(frame3.y)*frame3.y\n",
    "T9 = -c*w_humerus.dot(frame3.z)*frame3.z\n",
    "clavicula.apply_torque(T1+T2+T3,thorax)\n",
    "scapula.apply_torque(T4+T5+T6,clavicula)\n",
    "humerus.apply_torque(T7+T8+T9,scapula)"
   ]
  },
  {
   "cell_type": "code",
   "execution_count": 2,
   "metadata": {
    "tags": []
   },
   "outputs": [],
   "source": [
    "# Contact between scapula and thorax\n",
    "\n",
    "# contact points \n",
    "contact_point1 = me.Point('CP1')\n",
    "contact_point1.set_pos(scapula.masscenter,x_cont1*scapula.x+y_cont1*scapula.y  +z_cont1*scapula.z)\n",
    "contact_point1.set_vel(scapula.frame,0) # point is fixed in scapula\n",
    "\n",
    "contact_point2 = me.Point('CP2')\n",
    "contact_point2.set_pos(scapula.masscenter,x_cont2*scapula.x+y_cont2*scapula.y  +z_cont2*scapula.z)\n",
    "contact_point2.set_vel(scapula.frame,0) # point is fixed in scapula\n",
    "\n",
    "## contact forces\n",
    "\n",
    "# Distances between contact points and thorax frame\n",
    "x_pos1 = scapula.masscenter.pos_from(thorax.masscenter).dot(thorax.x)+x_cont1*scapula.x.dot(thorax.x)+y_cont1*scapula.y.dot(thorax.x)+z_cont1*scapula.z.dot(thorax.x)\n",
    "y_pos1 = scapula.masscenter.pos_from(thorax.masscenter).dot(thorax.y)+x_cont1*scapula.x.dot(thorax.y)+y_cont1*scapula.y.dot(thorax.y)+z_cont1*scapula.z.dot(thorax.y)\n",
    "z_pos1 = scapula.masscenter.pos_from(thorax.masscenter).dot(thorax.z)+x_cont1*scapula.x.dot(thorax.z)+y_cont1*scapula.y.dot(thorax.z)+z_cont1*scapula.z.dot(thorax.z)\n",
    "x_pos2 = scapula.masscenter.pos_from(thorax.masscenter).dot(thorax.x)+x_cont2*scapula.x.dot(thorax.x)+y_cont2*scapula.y.dot(thorax.x)+z_cont2*scapula.z.dot(thorax.x)\n",
    "y_pos2 = scapula.masscenter.pos_from(thorax.masscenter).dot(thorax.y)+x_cont2*scapula.x.dot(thorax.y)+y_cont2*scapula.y.dot(thorax.y)+z_cont2*scapula.z.dot(thorax.y)\n",
    "z_pos2 = scapula.masscenter.pos_from(thorax.masscenter).dot(thorax.z)+x_cont2*scapula.x.dot(thorax.z)+y_cont2*scapula.y.dot(thorax.z)+z_cont2*scapula.z.dot(thorax.z)\n",
    "\n",
    "# Contact forces\n",
    "f1 = ((x_pos1-mx)/ax)**2+((y_pos1-my)/ay)**2+((z_pos1-mz)/az)**2-1\n",
    "F1 = 1/2*(f1-sp.sqrt(f1**2+eps**2))\n",
    "Fx1 = -k_contact*(x_pos1-mx)*(ax**2+ay**2+az**2)/(ax**2)*F1\n",
    "Fy1 = -k_contact*(y_pos1-my)*(ax**2+ay**2+az**2)/(ay**2)*F1\n",
    "Fz1 = -k_contact*(z_pos1-mz)*(ax**2+ay**2+az**2)/(az**2)*F1\n",
    "\n",
    "f2 = ((x_pos2-mx)/ax)**2+((y_pos2-my)/ay)**2+((z_pos2-mz)/az)**2-1\n",
    "F2 = 1/2*(f2-sp.sqrt(f2**2+eps**2))\n",
    "Fx2 = -k_contact*(x_pos2-mx)*(ax**2+ay**2+az**2)/(ax**2)*F2\n",
    "Fy2 = -k_contact*(y_pos2-my)*(ax**2+ay**2+az**2)/(ay**2)*F2\n",
    "Fz2 = -k_contact*(z_pos2-mz)*(ax**2+ay**2+az**2)/(az**2)*F2\n",
    "\n",
    "# applying contact forces to contact points in thorax frame\n",
    "scapula.apply_force(thorax.x*Fx1+thorax.y*Fy1+thorax.z*Fz1,contact_point1)\n",
    "scapula.apply_force(thorax.x*Fx2+thorax.y*Fy2+thorax.z*Fz2,contact_point2)\n"
   ]
  },
  {
   "cell_type": "code",
   "execution_count": 3,
   "metadata": {
    "executionInfo": {
     "elapsed": 67021,
     "status": "ok",
     "timestamp": 1717952493077,
     "user": {
      "displayName": "Ondřej Zoufalý",
      "userId": "01394073359303327427"
     },
     "user_tz": -120
    },
    "id": "OK7IZOQWLxDZ",
    "tags": []
   },
   "outputs": [],
   "source": [
    "# method for solving EoMs\n",
    "method = me.JointsMethod(thorax,SC,AC,GH)\n",
    "method.form_eoms()\n",
    "mm = method.mass_matrix_full\n",
    "fo = method.forcing_full"
   ]
  },
  {
   "cell_type": "code",
   "execution_count": 4,
   "metadata": {
    "executionInfo": {
     "elapsed": 7610,
     "status": "ok",
     "timestamp": 1717952500677,
     "user": {
      "displayName": "Ondřej Zoufalý",
      "userId": "01394073359303327427"
     },
     "user_tz": -120
    },
    "id": "Sz1i3Dv9KHTa",
    "tags": []
   },
   "outputs": [],
   "source": [
    "# substituting coords (x1..x9) and speeds (x10..x18)\n",
    "x = sp.symbols('x1:19')\n",
    "subs_q = {q1:x[0],q2:x[1],q3:x[2],q4:x[3],q5:x[4],q6:x[5],q7:x[6],q8:x[7],q9:x[8]}\n",
    "subs_u = {u1:x[9],u2:x[10],u3:x[11],u4:x[12],u5:x[13],u6:x[14],u7:x[15],u8:x[16],u9:x[17]}\n",
    "mm_subs = me.msubs(mm,subs_q,subs_u)\n",
    "fo_subs = me.msubs(fo,subs_q,subs_u)"
   ]
  },
  {
   "cell_type": "code",
   "execution_count": 5,
   "metadata": {
    "tags": []
   },
   "outputs": [
    {
     "name": "stdout",
     "output_type": "stream",
     "text": [
      "Creating done\n"
     ]
    }
   ],
   "source": [
    "text_file = open(\"yzx_create_eoms.m\", \"w\")\n",
    "with open(\"yzx_create_eoms.m\", \"w\") as text_file:\n",
    "    print('''syms t x1 x2 x3 x4 x5 x6 x7 x8 x9 x10 x11 x12 x13 x14 x15 x16 x17 x18 clavicle_mass scapula_mass humerus_mass c k g rigid2Px rigid2Py rigid2Pz rigid3Cx rigid3Cy rigid3Cz IUxx IUyy IUzz IUxy IUyz IUzx IMxx IMyy IMzz IMxy IMyz IMzx ILxx ILyy ILzz ILxy ILyz ILzx rigid0Px rigid0Py rigid0Pz rigid2Cx rigid2Cy rigid2Cz rigid1Px rigid1Py rigid1Pz rigid1Cx rigid1Cy rigid1Cz x_cont1 y_cont1 z_cont1 x_cont2 y_cont2 z_cont2 k_contact mx my mz ax ay az eps real\n",
    "q = [x1 x2 x3 x4 x5 x6 x7 x8 x9 x10 x11 x12 x13 x14 x15 x16 x17 x18];\n",
    "m = [clavicle_mass,scapula_mass,humerus_mass];\n",
    "IU = [IUxx IUyy IUzz IUxy IUyz IUzx];\n",
    "IM = [IMxx IMyy IMzz IMxy IMyz IMzx];\n",
    "IL = [ILxx ILyy ILzz ILxy ILyz ILzx];\n",
    "rigid0P = [rigid0Px, rigid0Py, rigid0Pz];\n",
    "rigid1C = [rigid1Cx, rigid1Cy, rigid1Cz];\n",
    "rigid1P = [rigid1Px, rigid1Py, rigid1Pz];\n",
    "rigid2C = [rigid2Cx, rigid2Cy, rigid2Cz];\n",
    "rigid2P = [rigid2Px, rigid2Py, rigid2Pz];\n",
    "rigid3C = [rigid3Cx, rigid3Cy, rigid3Cz];\n",
    "cont_params = [mx,my,mz,ax,ay,az,x_cont1,y_cont1,z_cont1,x_cont2,y_cont2,z_cont2,k_contact, eps];\n",
    "\n",
    "%s\n",
    "matlabFunction(fo,'file','fo_yzx','vars',{t,q,IU,IM,IL,m,c,k,g,rigid0P,rigid1C,rigid1P,rigid2C,rigid2P,rigid3C,cont_params});\n",
    "'fo file created'\n",
    "\n",
    "%s\n",
    "matlabFunction(mm,'file','mm_yzx','vars',{t,q,IU,IM,IL,m,c,k,g,rigid1C,rigid1P,rigid2C,rigid2P,rigid3C});\n",
    "'mm file created'\n",
    "\n",
    "clear all\n",
    "''' % (sp.octave_code(fo_subs, assign_to = 'fo'),sp.octave_code(mm_subs, assign_to = 'mm')), file=text_file)\n",
    "    \n",
    "print(\"Creating done\")"
   ]
  },
  {
   "cell_type": "code",
   "execution_count": 7,
   "metadata": {
    "executionInfo": {
     "elapsed": 9,
     "status": "ok",
     "timestamp": 1717952552675,
     "user": {
      "displayName": "Ondřej Zoufalý",
      "userId": "01394073359303327427"
     },
     "user_tz": -120
    },
    "id": "Ajg6lDofYgP3",
    "tags": []
   },
   "outputs": [
    {
     "name": "stdout",
     "output_type": "stream",
     "text": [
      "Creating done\n"
     ]
    }
   ],
   "source": [
    "## reaction forces in scapula\n",
    "\n",
    "x1, x2, x3, dx1, dx2, dx3, ddx1, ddx2, ddx3= sp.symbols('x1 x2 x3 dx1 dx2 dx3 ddx1 ddx2 ddx3')\n",
    "x4, x5, x6, dx4, dx5, dx6, ddx4, ddx5, ddx6= sp.symbols('x4 x5 x6 dx4 dx5 dx6 ddx4 ddx5 ddx6')\n",
    "x7, x8, x9, dx7, dx8, dx9, ddx7, ddx8, ddx9= sp.symbols('x7 x8 x9 dx7 dx8 dx9 ddx7 ddx8 ddx9')\n",
    "\n",
    "# reaction forces in scapula frame from accelerations\n",
    "R_vec = (humerus.masscenter.acc(thorax.frame) + g*thorax.y) * humerus.mass\n",
    "\n",
    "Rx = R_vec.dot(scapula.x)\n",
    "Ry = R_vec.dot(scapula.y)\n",
    "Rz = R_vec.dot(scapula.z)\n",
    "\n",
    "# q1d = u1 ...\n",
    "subsq1 = {q1:x1,q2:x2,q3:x3,sp.Derivative(q1, t):dx1,sp.Derivative(q2, t):dx2,sp.Derivative(q3, t):dx3,sp.Derivative(q1, (t, 2)):ddx1,sp.Derivative(q2, (t, 2)):ddx2,sp.Derivative(q3, (t, 2)):ddx3}\n",
    "subsq2 = {q4:x4,q5:x5,q6:x6,sp.Derivative(q4, t):dx4,sp.Derivative(q5, t):dx5,sp.Derivative(q6, t):dx6,sp.Derivative(q4, (t, 2)):ddx4,sp.Derivative(q5, (t, 2)):ddx5,sp.Derivative(q6, (t, 2)):ddx6}\n",
    "subsq3 = {q7:x7,q8:x8,q9:x9,sp.Derivative(q7, t):dx7,sp.Derivative(q8, t):dx8,sp.Derivative(q9, t):dx9,sp.Derivative(q7, (t, 2)):ddx7,sp.Derivative(q8, (t, 2)):ddx8,sp.Derivative(q9, (t, 2)):ddx9}\n",
    "subsu1 = {u1:dx1,u2:dx2,u3:dx3,sp.Derivative(u1, t):ddx1,sp.Derivative(u2, t):ddx2,sp.Derivative(u3, t):ddx3}\n",
    "subsu2 = {u4:dx4,u5:dx5,u6:dx6,sp.Derivative(u4, t):ddx4,sp.Derivative(u5, t):ddx5,sp.Derivative(u6, t):ddx6}\n",
    "subsu3 = {u7:dx7,u8:dx8,u9:dx9,sp.Derivative(u7, t):ddx7,sp.Derivative(u8, t):ddx8,sp.Derivative(u9, t):ddx9}\n",
    "\n",
    "Rx_subs = me.msubs(Rx,subsq1,subsq2,subsq3,subsu1,subsu2,subsu3)\n",
    "Ry_subs = me.msubs(Ry,subsq1,subsq2,subsq3,subsu1,subsu2,subsu3)\n",
    "Rz_subs = me.msubs(Rz,subsq1,subsq2,subsq3,subsu1,subsu2,subsu3)\n",
    "R = sp.Matrix([Rx_subs, Ry_subs, Rz_subs])\n",
    "\n",
    "text_file = open(\"create_reaction_from_acc.m\", \"w\")\n",
    "with open(\"create_reaction_from_acc.m\", \"w\") as text_file:\n",
    "    print('''syms t x1 x2 x3 x4 x5 x6 x7 x8 x9 dx1 dx2 dx3 dx4 dx5 dx6 dx7 dx8 dx9 ddx1 ddx2 ddx3 ddx4 ddx5 ddx6 ddx7 ddx8 ddx9\n",
    "syms rigid2Px rigid2Py rigid2Pz rigid3Cx rigid3Cy rigid3Cz rigid0Px rigid0Py rigid0Pz rigid2Cx rigid2Cy rigid2Cz rigid1Px rigid1Py rigid1Pz rigid1Cx rigid1Cy rigid1Cz real\n",
    "syms clavicle_mass scapula_mass humerus_mass g\n",
    "q = [x1 x2 x3 x4 x5 x6 x7 x8 x9];\n",
    "dq = [dx1 dx2 dx3 dx4 dx5 dx6 dx7 dx8 dx9];\n",
    "ddq = [ddx1 ddx2 ddx3 ddx4 ddx5 ddx6 ddx7 ddx8 ddx9];\n",
    "m = [clavicle_mass,scapula_mass,humerus_mass];\n",
    "rigid0P = [rigid0Px, rigid0Py, rigid0Pz];\n",
    "rigid1C = [rigid1Cx, rigid1Cy, rigid1Cz];\n",
    "rigid1P = [rigid1Px, rigid1Py, rigid1Pz];\n",
    "rigid2C = [rigid2Cx, rigid2Cy, rigid2Cz];\n",
    "rigid2P = [rigid2Px, rigid2Py, rigid2Pz];\n",
    "rigid3C = [rigid3Cx, rigid3Cy, rigid3Cz];\n",
    "\n",
    "%s\n",
    "matlabFunction(R,'file','GH_react_from_acc','vars',{t,q,dq,ddq,m,g,rigid0P,rigid1C,rigid1P,rigid2C,rigid2P,rigid3C});\n",
    "'reaction file created'\n",
    "clear all\n",
    "''' % sp.octave_code(R,assign_to = 'R'), file=text_file)\n",
    "    \n",
    "print(\"Creating done\")"
   ]
  },
  {
   "cell_type": "code",
   "execution_count": 7,
   "metadata": {
    "collapsed": true,
    "jupyter": {
     "outputs_hidden": true
    },
    "tags": []
   },
   "outputs": [
    {
     "data": {
      "text/latex": [
       "$\\displaystyle \\left(u_{1}{\\left(t \\right)} \\sin{\\left(q_{2}{\\left(t \\right)} \\right)} + u_{3}{\\left(t \\right)}\\right) \\sin{\\left(q_{2}{\\left(t \\right)} \\right)} - \\left(- u_{1}{\\left(t \\right)} \\sin{\\left(q_{3}{\\left(t \\right)} \\right)} \\cos{\\left(q_{2}{\\left(t \\right)} \\right)} + u_{2}{\\left(t \\right)} \\cos{\\left(q_{3}{\\left(t \\right)} \\right)}\\right) \\sin{\\left(q_{3}{\\left(t \\right)} \\right)} \\cos{\\left(q_{2}{\\left(t \\right)} \\right)} + \\left(u_{1}{\\left(t \\right)} \\cos{\\left(q_{2}{\\left(t \\right)} \\right)} \\cos{\\left(q_{3}{\\left(t \\right)} \\right)} + u_{2}{\\left(t \\right)} \\sin{\\left(q_{3}{\\left(t \\right)} \\right)}\\right) \\cos{\\left(q_{2}{\\left(t \\right)} \\right)} \\cos{\\left(q_{3}{\\left(t \\right)} \\right)}$"
      ],
      "text/plain": [
       "(u1(t)*sin(q2(t)) + u3(t))*sin(q2(t)) - (-u1(t)*sin(q3(t))*cos(q2(t)) + u2(t)*cos(q3(t)))*sin(q3(t))*cos(q2(t)) + (u1(t)*cos(q2(t))*cos(q3(t)) + u2(t)*sin(q3(t)))*cos(q2(t))*cos(q3(t))"
      ]
     },
     "execution_count": 7,
     "metadata": {},
     "output_type": "execute_result"
    }
   ],
   "source": []
  }
 ],
 "metadata": {
  "colab": {
   "authorship_tag": "ABX9TyOWAYxJk64b+9fB0VF/TN+P",
   "provenance": []
  },
  "kernelspec": {
   "display_name": "Python 3 (ipykernel)",
   "language": "python",
   "name": "python3"
  },
  "language_info": {
   "codemirror_mode": {
    "name": "ipython",
    "version": 3
   },
   "file_extension": ".py",
   "mimetype": "text/x-python",
   "name": "python",
   "nbconvert_exporter": "python",
   "pygments_lexer": "ipython3",
   "version": "3.11.5"
  }
 },
 "nbformat": 4,
 "nbformat_minor": 4
}
