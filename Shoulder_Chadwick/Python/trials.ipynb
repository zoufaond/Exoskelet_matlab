{
 "cells": [
  {
   "cell_type": "code",
   "execution_count": 153,
   "id": "c200040c-d62d-4496-a219-b693566998f3",
   "metadata": {
    "tags": []
   },
   "outputs": [],
   "source": [
    "import sympy as sp\n",
    "import numpy as np\n",
    "import scipy as sc\n",
    "import time\n",
    "import pickle\n",
    "import sympy.physics.mechanics as me\n",
    "import sys\n",
    "sys.path.insert(0, \"..\")\n",
    "from importlib import reload"
   ]
  },
  {
   "cell_type": "code",
   "execution_count": 2,
   "id": "103ebb7f-c419-4de4-bc58-9c9d2fe64c3c",
   "metadata": {
    "tags": []
   },
   "outputs": [
    {
     "name": "stdout",
     "output_type": "stream",
     "text": [
      "1212.813421010971\n"
     ]
    }
   ],
   "source": [
    "import equations as eq\n",
    "reload (eq);\n",
    "model_struct = sc.io.loadmat('../das3_simplified_quat.mat')\n",
    "data_struct = sc.io.loadmat('../data_model_python2.mat')\n",
    "initPosQuat = 'InitPosOptQuat'\n",
    "start = time.time()\n",
    "MM,FO,TE,q,w,u0,fr,frstar,kinematical,xdot,holonomic,activations = eq.create_eoms_u0state(model_struct,data_struct,initPosQuat,derive = 'numeric')\n",
    "time_to_create = time.time() - start\n",
    "print(time_to_create)"
   ]
  },
  {
   "cell_type": "code",
   "execution_count": 64,
   "id": "62317364-50f8-4e5a-8702-b65dc7c2fa2d",
   "metadata": {
    "tags": []
   },
   "outputs": [
    {
     "name": "stdout",
     "output_type": "stream",
     "text": [
      "TE created\n"
     ]
    }
   ],
   "source": [
    "import equations as eq\n",
    "reload (eq);\n",
    "data_struct = sc.io.loadmat('../data_model.mat')\n",
    "model_struct = sc.io.loadmat('../das3_full_quat.mat')\n",
    "initPosQuat = 'InitPosOptQuat'\n",
    "TE,act = eq.create_eoms(model_struct,data_struct,initPosQuat,derive = 'numeric')\n",
    "# me.mprint(res)"
   ]
  },
  {
   "cell_type": "code",
   "execution_count": 54,
   "id": "d6f953d1-aec7-4973-8c04-6e13f23e6745",
   "metadata": {
    "collapsed": true,
    "jupyter": {
     "outputs_hidden": true
    },
    "tags": []
   },
   "outputs": [
    {
     "data": {
      "text/plain": [
       "[actSym_45,\n",
       " actSym_55,\n",
       " actSym_88,\n",
       " actSym_80,\n",
       " actSym_49,\n",
       " actSym_76,\n",
       " actSym_109,\n",
       " actSym_61,\n",
       " actSym_94,\n",
       " actSym_12,\n",
       " actSym_86,\n",
       " actSym_96,\n",
       " actSym_92,\n",
       " actSym_63,\n",
       " actSym_69,\n",
       " actSym_10,\n",
       " actSym_79,\n",
       " actSym_110,\n",
       " actSym_24,\n",
       " actSym_9,\n",
       " actSym_6,\n",
       " actSym_44,\n",
       " actSym_31,\n",
       " actSym_39,\n",
       " actSym_14,\n",
       " actSym_130,\n",
       " actSym_33,\n",
       " actSym_106,\n",
       " actSym_73,\n",
       " actSym_20,\n",
       " actSym_50,\n",
       " actSym_16,\n",
       " actSym_77,\n",
       " actSym_81,\n",
       " actSym_102,\n",
       " actSym_72,\n",
       " actSym_64,\n",
       " actSym_104,\n",
       " actSym_41,\n",
       " actSym_132,\n",
       " actSym_136,\n",
       " actSym_65,\n",
       " actSym_43,\n",
       " actSym_99,\n",
       " actSym_98,\n",
       " actSym_54,\n",
       " actSym_128,\n",
       " actSym_68,\n",
       " actSym_100,\n",
       " actSym_1,\n",
       " actSym_108,\n",
       " actSym_59,\n",
       " actSym_27,\n",
       " actSym_2,\n",
       " actSym_40,\n",
       " actSym_21,\n",
       " actSym_35,\n",
       " actSym_66,\n",
       " actSym_18,\n",
       " actSym_129,\n",
       " actSym_53,\n",
       " actSym_52,\n",
       " actSym_75,\n",
       " actSym_4,\n",
       " actSym_107,\n",
       " actSym_13,\n",
       " actSym_60,\n",
       " actSym_7,\n",
       " actSym_70,\n",
       " actSym_91,\n",
       " actSym_114,\n",
       " actSym_83,\n",
       " actSym_118,\n",
       " actSym_48,\n",
       " actSym_8,\n",
       " actSym_62,\n",
       " actSym_17,\n",
       " actSym_133,\n",
       " actSym_58,\n",
       " actSym_28,\n",
       " actSym_32,\n",
       " actSym_67,\n",
       " actSym_22,\n",
       " actSym_15,\n",
       " actSym_51,\n",
       " actSym_93,\n",
       " actSym_46,\n",
       " actSym_30,\n",
       " actSym_105,\n",
       " actSym_74,\n",
       " actSym_97,\n",
       " actSym_23,\n",
       " actSym_71,\n",
       " actSym_90,\n",
       " actSym_19,\n",
       " actSym_29,\n",
       " actSym_137,\n",
       " actSym_25,\n",
       " actSym_47,\n",
       " actSym_117,\n",
       " actSym_57,\n",
       " actSym_11,\n",
       " actSym_112,\n",
       " actSym_131,\n",
       " actSym_87,\n",
       " actSym_3,\n",
       " actSym_95,\n",
       " actSym_82,\n",
       " actSym_5,\n",
       " actSym_78,\n",
       " actSym_56,\n",
       " actSym_113,\n",
       " actSym_111,\n",
       " actSym_38,\n",
       " actSym_36,\n",
       " actSym_135,\n",
       " actSym_42,\n",
       " actSym_37,\n",
       " actSym_101,\n",
       " actSym_115,\n",
       " actSym_34,\n",
       " actSym_116,\n",
       " actSym_103,\n",
       " actSym_85,\n",
       " actSym_89,\n",
       " actSym_26,\n",
       " actSym_134]"
      ]
     },
     "execution_count": 54,
     "metadata": {},
     "output_type": "execute_result"
    }
   ],
   "source": [
    "t = sp.Symbol('t')\n",
    "my_list = [i for i in free_symbols if i!=t]\n",
    "my_list"
   ]
  },
  {
   "cell_type": "code",
   "execution_count": 4,
   "id": "ba968a90-339f-4421-8e67-24a31070c6f1",
   "metadata": {
    "tags": []
   },
   "outputs": [],
   "source": [
    "import equations as eq\n",
    "reload (eq);\n",
    "\n",
    "\n",
    "initPosQuat = 'InitPosOptQuat'\n",
    "dict_vals,symlist, value_list = eq.create_parameters_dict(data_struct, initPosQuat)\n",
    "x0 = data_struct['params']['InitPosOptQuat'][0,0]['initCondQuat'].item()\n",
    "x0t = list(x0.T[0])"
   ]
  },
  {
   "cell_type": "code",
   "execution_count": 14,
   "id": "9489bc3f-c9a7-4a53-b81c-bf1bac48deed",
   "metadata": {
    "collapsed": true,
    "jupyter": {
     "outputs_hidden": true
    },
    "tags": []
   },
   "outputs": [
    {
     "data": {
      "text/latex": [
       "$\\displaystyle \\left[\\begin{matrix}\\frac{d}{d t} q_{1 clavicula}{\\left(t \\right)}\\\\\\frac{d}{d t} q_{2 clavicula}{\\left(t \\right)}\\\\\\frac{d}{d t} q_{3 clavicula}{\\left(t \\right)}\\\\\\frac{d}{d t} q_{1 scapula}{\\left(t \\right)}\\\\\\frac{d}{d t} q_{2 scapula}{\\left(t \\right)}\\\\\\frac{d}{d t} q_{3 scapula}{\\left(t \\right)}\\\\\\frac{d}{d t} q_{1 humerus}{\\left(t \\right)}\\\\\\frac{d}{d t} q_{2 humerus}{\\left(t \\right)}\\\\\\frac{d}{d t} q_{3 humerus}{\\left(t \\right)}\\\\\\frac{d}{d t} q_{ulna}{\\left(t \\right)}\\\\\\frac{d}{d t} q_{0 clavicula}{\\left(t \\right)}\\\\\\frac{d}{d t} q_{0 scapula}{\\left(t \\right)}\\\\\\frac{d}{d t} q_{0 humerus}{\\left(t \\right)}\\\\\\frac{d}{d t} w_{1 clavicula}{\\left(t \\right)}\\\\\\frac{d}{d t} w_{2 clavicula}{\\left(t \\right)}\\\\\\frac{d}{d t} w_{3 clavicula}{\\left(t \\right)}\\\\\\frac{d}{d t} w_{1 scapula}{\\left(t \\right)}\\\\\\frac{d}{d t} w_{2 scapula}{\\left(t \\right)}\\\\\\frac{d}{d t} w_{3 scapula}{\\left(t \\right)}\\\\\\frac{d}{d t} w_{1 humerus}{\\left(t \\right)}\\\\\\frac{d}{d t} w_{2 humerus}{\\left(t \\right)}\\\\\\frac{d}{d t} w_{3 humerus}{\\left(t \\right)}\\\\\\frac{d}{d t} w_{ulna}{\\left(t \\right)}\\\\\\frac{d}{d t} u_{0 clavicula}{\\left(t \\right)}\\\\\\frac{d}{d t} u_{0 scapula}{\\left(t \\right)}\\\\\\frac{d}{d t} u_{0 humerus}{\\left(t \\right)}\\end{matrix}\\right]$"
      ],
      "text/plain": [
       "Matrix([\n",
       "[Derivative(q1_clavicula(t), t)],\n",
       "[Derivative(q2_clavicula(t), t)],\n",
       "[Derivative(q3_clavicula(t), t)],\n",
       "[  Derivative(q1_scapula(t), t)],\n",
       "[  Derivative(q2_scapula(t), t)],\n",
       "[  Derivative(q3_scapula(t), t)],\n",
       "[  Derivative(q1_humerus(t), t)],\n",
       "[  Derivative(q2_humerus(t), t)],\n",
       "[  Derivative(q3_humerus(t), t)],\n",
       "[      Derivative(q_ulna(t), t)],\n",
       "[Derivative(q0_clavicula(t), t)],\n",
       "[  Derivative(q0_scapula(t), t)],\n",
       "[  Derivative(q0_humerus(t), t)],\n",
       "[Derivative(w1_clavicula(t), t)],\n",
       "[Derivative(w2_clavicula(t), t)],\n",
       "[Derivative(w3_clavicula(t), t)],\n",
       "[  Derivative(w1_scapula(t), t)],\n",
       "[  Derivative(w2_scapula(t), t)],\n",
       "[  Derivative(w3_scapula(t), t)],\n",
       "[  Derivative(w1_humerus(t), t)],\n",
       "[  Derivative(w2_humerus(t), t)],\n",
       "[  Derivative(w3_humerus(t), t)],\n",
       "[      Derivative(w_ulna(t), t)],\n",
       "[Derivative(u0_clavicula(t), t)],\n",
       "[  Derivative(u0_scapula(t), t)],\n",
       "[  Derivative(u0_humerus(t), t)]])"
      ]
     },
     "execution_count": 14,
     "metadata": {},
     "output_type": "execute_result"
    }
   ],
   "source": [
    "xdot"
   ]
  },
  {
   "cell_type": "code",
   "execution_count": 3,
   "id": "b647f8e1-ddf2-479f-a12e-6f6901e87113",
   "metadata": {
    "tags": []
   },
   "outputs": [
    {
     "name": "stdout",
     "output_type": "stream",
     "text": [
      "488.5390646457672\n"
     ]
    }
   ],
   "source": [
    "dqs = sp.symbols('dq0:13')\n",
    "dws = sp.symbols('dw1:11')\n",
    "du0s = sp.symbols('du1:3')\n",
    "\n",
    "start = time.time()\n",
    "# eoms_implicit = sp.Matrix(sp.Matrix(kindeq).col_join(fr+frstar))\n",
    "dxs = list(dqs)+list(dws)+list(du0s)\n",
    "sub_dq = dict(zip(xdot,dxs))\n",
    "# eoms_subbed = me.msubs(eoms_implicit,sub_dq)\n",
    "fr_subbed = me.msubs(fr,sub_dq)\n",
    "frstar_subbed = me.msubs(frstar,sub_dq)\n",
    "time_to_create = time.time() - start\n",
    "print(time_to_create)"
   ]
  },
  {
   "cell_type": "code",
   "execution_count": 4,
   "id": "5ba9aab0-4aee-43d3-8414-dbe5bb29ae4d",
   "metadata": {
    "tags": []
   },
   "outputs": [
    {
     "name": "stdout",
     "output_type": "stream",
     "text": [
      "483.19964838027954\n"
     ]
    }
   ],
   "source": [
    "start = time.time()\n",
    "# eoms_implicit_lam = sp.lambdify(q + w + dxs + activations, eoms_subbed,cse=True)\n",
    "fr_lam = sp.lambdify(q + w + u0 + dxs + activations, fr_subbed,cse=True)\n",
    "frstar_lam = sp.lambdify(q + w + u0 + dxs + activations, frstar_subbed,cse=True)\n",
    "# TE_lam = sp.lambdify(q + w + dxs + activations, TE,cse=True)\n",
    "time_to_create = time.time() - start\n",
    "print(time_to_create)"
   ]
  },
  {
   "cell_type": "code",
   "execution_count": 16,
   "id": "7eb28ccf-9ad3-4d61-969a-35f123dfa21a",
   "metadata": {
    "tags": []
   },
   "outputs": [
    {
     "data": {
      "text/plain": [
       "array([[18.72390313],\n",
       "       [ 3.953035  ],\n",
       "       [36.64801276],\n",
       "       [-6.94084646],\n",
       "       [ 3.39758984],\n",
       "       [15.97310832],\n",
       "       [-2.04809048],\n",
       "       [ 0.92302421],\n",
       "       [-3.90984752],\n",
       "       [-0.94610275]])"
      ]
     },
     "execution_count": 16,
     "metadata": {},
     "output_type": "execute_result"
    }
   ],
   "source": [
    "qq = np.linspace(0.1,1,13)\n",
    "uu = np.zeros(10)\n",
    "uu0 = np.zeros(2)\n",
    "dxxs = np.zeros(len(xdot))\n",
    "acts = np.zeros(36)\n",
    "fr_lam(*qq,*uu,*uu0,*dxxs,*acts)"
   ]
  },
  {
   "cell_type": "code",
   "execution_count": 6,
   "id": "c1bbad85-9745-444e-9c37-a6122046d225",
   "metadata": {
    "tags": []
   },
   "outputs": [
    {
     "data": {
      "text/plain": [
       "array([[ 0.00000000e+00],\n",
       "       [ 0.00000000e+00],\n",
       "       [ 0.00000000e+00],\n",
       "       [ 0.00000000e+00],\n",
       "       [ 0.00000000e+00],\n",
       "       [ 0.00000000e+00],\n",
       "       [ 0.00000000e+00],\n",
       "       [ 0.00000000e+00],\n",
       "       [ 0.00000000e+00],\n",
       "       [ 0.00000000e+00],\n",
       "       [ 0.00000000e+00],\n",
       "       [ 0.00000000e+00],\n",
       "       [ 0.00000000e+00],\n",
       "       [-3.48790699e-08],\n",
       "       [-3.25819531e-08],\n",
       "       [ 6.79130920e-08],\n",
       "       [-1.20538374e-07],\n",
       "       [-9.09862941e-09],\n",
       "       [ 2.07978401e-09],\n",
       "       [-4.37587782e-08],\n",
       "       [-1.64224477e-08],\n",
       "       [-1.59809965e-09],\n",
       "       [-1.95863326e-11]])"
      ]
     },
     "execution_count": 6,
     "metadata": {},
     "output_type": "execute_result"
    }
   ],
   "source": [
    "def result(t, y):\n",
    "\n",
    "    res = eoms_implicit_lam(*y)+TE_lam(*y)\n",
    "    return res\n",
    "\n",
    "xdot_lam = list(np.zeros_like(x0t))\n",
    "acts = list(np.zeros(36))\n",
    "inputs = x0t+xdot_lam+acts\n",
    "result(0,inputs)"
   ]
  },
  {
   "cell_type": "code",
   "execution_count": 7,
   "id": "343bbbd4-d87f-418c-81fc-a75b4720190d",
   "metadata": {
    "tags": []
   },
   "outputs": [],
   "source": [
    "duration = 1.0  # seconds\n",
    "num_nodes = 10\n",
    "interval_value = duration/(num_nodes - 1)\n",
    "time = np.linspace(0.0, duration, num=num_nodes)\n",
    "\n",
    "state_symbols = tuple(q+w)\n",
    "specified_symbols = activations\n",
    "t = me.dynamicsymbols._t\n"
   ]
  },
  {
   "cell_type": "code",
   "execution_count": 5,
   "id": "30e595d6-2563-4672-88fc-9c969894c47b",
   "metadata": {
    "tags": []
   },
   "outputs": [
    {
     "name": "stdout",
     "output_type": "stream",
     "text": [
      "85.60313415527344\n"
     ]
    }
   ],
   "source": [
    "import equations as eq\n",
    "reload (eq);\n",
    "\n",
    "start = time.time()\n",
    "eq.save_eoms_implicit(eoms_implicit,q,w,'eoms_implicit.txt')\n",
    "time_to_create = time.time() - start\n",
    "print(time_to_create)"
   ]
  },
  {
   "cell_type": "code",
   "execution_count": 15,
   "id": "a303bd15-2ac0-4ed5-8ed5-9f67f74eacb1",
   "metadata": {
    "tags": []
   },
   "outputs": [
    {
     "name": "stdout",
     "output_type": "stream",
     "text": [
      "121.24883508682251\n"
     ]
    },
    {
     "data": {
      "text/plain": [
       "sympy.matrices.dense.MutableDenseMatrix"
      ]
     },
     "execution_count": 15,
     "metadata": {},
     "output_type": "execute_result"
    }
   ],
   "source": [
    "import equations as eq\n",
    "reload (eq);\n",
    "\n",
    "start = time.time()\n",
    "eoms_back = eq.load_eoms_implicit(q,w,'eoms_implicit.txt')\n",
    "time_to_create = time.time() - start\n",
    "print(time_to_create)\n",
    "\n",
    "type(eoms_back)"
   ]
  },
  {
   "cell_type": "code",
   "execution_count": 2,
   "id": "49e2d83c-84f1-433e-a268-9b85e85e6996",
   "metadata": {
    "tags": []
   },
   "outputs": [
    {
     "name": "stdout",
     "output_type": "stream",
     "text": [
      "6.4315025806427\n"
     ]
    }
   ],
   "source": [
    "import equations as eq\n",
    "reload (eq);\n",
    "\n",
    "\n",
    "start = time.time()\n",
    "MM,FO,q,w,eoms_implicit = eq.load_eoms('eoms2.txt')\n",
    "time_to_create = time.time() - start\n",
    "print(time_to_create)"
   ]
  },
  {
   "cell_type": "code",
   "execution_count": 7,
   "id": "0dd683a7-d1aa-4dba-a50a-6fa03f0d585b",
   "metadata": {
    "collapsed": true,
    "jupyter": {
     "outputs_hidden": true
    },
    "tags": []
   },
   "outputs": [
    {
     "name": "stdout",
     "output_type": "stream",
     "text": [
      "235.2402858734131\n"
     ]
    }
   ],
   "source": []
  },
  {
   "cell_type": "code",
   "execution_count": 8,
   "id": "85332af9-2810-49a0-b7c1-92afbc5bdb35",
   "metadata": {
    "tags": []
   },
   "outputs": [],
   "source": [
    "def result(t, y, args):\n",
    "\n",
    "    res = eoms_implicit_lam(*y, *args)\n",
    "    return res"
   ]
  },
  {
   "cell_type": "code",
   "execution_count": 9,
   "id": "de574c02-9d8e-4ef6-9354-4e9c62c84f57",
   "metadata": {
    "collapsed": true,
    "jupyter": {
     "outputs_hidden": true
    },
    "tags": []
   },
   "outputs": [
    {
     "data": {
      "text/plain": [
       "array([[ 1.82500000e-01],\n",
       "       [ 1.65000000e-01],\n",
       "       [ 2.50000000e-01],\n",
       "       [ 3.05000000e-01],\n",
       "       [ 8.20000000e-01],\n",
       "       [ 3.86250000e-01],\n",
       "       [ 4.67500000e-01],\n",
       "       [ 4.96250000e-01],\n",
       "       [ 1.72750000e+00],\n",
       "       [ 5.17500000e-01],\n",
       "       [ 5.95000000e-01],\n",
       "       [ 5.97500000e-01],\n",
       "       [ 0.00000000e+00],\n",
       "       [-4.38221620e+03],\n",
       "       [-4.75243182e+03],\n",
       "       [ 4.12941024e+03],\n",
       "       [-1.31930551e+03],\n",
       "       [ 1.73515842e+03],\n",
       "       [-4.30559800e+03],\n",
       "       [-5.84507907e+07],\n",
       "       [-9.56429700e+07],\n",
       "       [ 4.94185608e+07],\n",
       "       [-5.21705106e+04]])"
      ]
     },
     "execution_count": 9,
     "metadata": {},
     "output_type": "execute_result"
    }
   ],
   "source": [
    "xf = np.linspace(0.1,1,13)\n",
    "uf = np.linspace(0.1,1,10)\n",
    "dxf = np.linspace(0.1,1,13)\n",
    "duf = np.linspace(0.1,1,10)\n",
    "\n",
    "inputs = list(xf)+list(uf)+list(dxf)+list(duf)\n",
    "result(0,inputs,value_list)"
   ]
  },
  {
   "cell_type": "code",
   "execution_count": 30,
   "id": "d1be16ff-c3e5-4f9b-974b-478c02aa9c10",
   "metadata": {
    "collapsed": true,
    "jupyter": {
     "outputs_hidden": true
    },
    "tags": []
   },
   "outputs": [
    {
     "data": {
      "text/plain": [
       "array([[-8.25000000e-02],\n",
       "       [ 1.00000000e-02],\n",
       "       [-3.46944695e-18],\n",
       "       [ 2.00000000e-02],\n",
       "       [-4.20000000e-01],\n",
       "       [ 8.87500000e-02],\n",
       "       [ 8.25000000e-02],\n",
       "       [ 1.28750000e-01],\n",
       "       [-1.02750000e+00],\n",
       "       [ 2.57500000e-01],\n",
       "       [ 2.55000000e-01],\n",
       "       [ 3.27500000e-01],\n",
       "       [ 1.00000000e+00],\n",
       "       [-3.57538794e+00],\n",
       "       [-1.34500939e+00],\n",
       "       [-1.09490014e+01],\n",
       "       [ 2.00726176e+00],\n",
       "       [-8.62902690e+00],\n",
       "       [-2.87226132e+00],\n",
       "       [-3.56486270e+00],\n",
       "       [-1.11660468e+00],\n",
       "       [-9.00458553e-01],\n",
       "       [-2.76177998e+00]])"
      ]
     },
     "execution_count": 30,
     "metadata": {},
     "output_type": "execute_result"
    }
   ],
   "source": [
    "eoms_implicit_lam(*xf,*uf,*dxf,*duf,*value_list)"
   ]
  },
  {
   "cell_type": "code",
   "execution_count": 5,
   "id": "eeca1a26-87d9-4d9a-b419-582d8f49937c",
   "metadata": {
    "tags": []
   },
   "outputs": [],
   "source": [
    "from numpy import radians, linspace, hstack, zeros, ones\n",
    "from scipy.integrate import odeint, solve_ivp\n",
    "from pydy.codegen.ode_function_generators import generate_ode_function"
   ]
  },
  {
   "cell_type": "code",
   "execution_count": 6,
   "id": "17b79c8f-299e-45da-ba83-9b78b5a17a51",
   "metadata": {
    "tags": []
   },
   "outputs": [],
   "source": [
    "force_lam = sp.lambdify(q + w + symlist, FO, cse=True)"
   ]
  },
  {
   "cell_type": "code",
   "execution_count": 32,
   "id": "b621a068-a109-44ac-ab73-fb4681c04b03",
   "metadata": {
    "tags": []
   },
   "outputs": [],
   "source": [
    "te_lam = sp.lambdify(q + w + symlist, TE, cse=True)"
   ]
  },
  {
   "cell_type": "code",
   "execution_count": 7,
   "id": "a81df079-7f48-412a-a716-169d7f3f23f0",
   "metadata": {
    "tags": []
   },
   "outputs": [],
   "source": [
    "mm_lam = sp.lambdify(q + w + symlist, MM, cse=True)"
   ]
  },
  {
   "cell_type": "code",
   "execution_count": 9,
   "id": "8ea4e513-3635-44b2-9ddb-529917880b1b",
   "metadata": {
    "collapsed": true,
    "jupyter": {
     "outputs_hidden": true
    },
    "tags": []
   },
   "outputs": [
    {
     "data": {
      "text/plain": [
       "array([[-1.50000000e+00],\n",
       "       [ 5.00000000e-01],\n",
       "       [ 5.00000000e-01],\n",
       "       [ 5.00000000e-01],\n",
       "       [-1.50000000e+00],\n",
       "       [ 5.00000000e-01],\n",
       "       [ 5.00000000e-01],\n",
       "       [ 5.00000000e-01],\n",
       "       [-1.50000000e+00],\n",
       "       [ 5.00000000e-01],\n",
       "       [ 5.00000000e-01],\n",
       "       [ 5.00000000e-01],\n",
       "       [ 1.00000000e+00],\n",
       "       [ 1.03796709e+07],\n",
       "       [-3.34846205e+05],\n",
       "       [ 5.70433388e+06],\n",
       "       [ 7.26447418e+04],\n",
       "       [ 9.39394230e+05],\n",
       "       [ 2.59491734e+06],\n",
       "       [-2.32666693e+02],\n",
       "       [-8.01487832e+01],\n",
       "       [ 1.10967240e+02],\n",
       "       [-2.20715701e+02]])"
      ]
     },
     "execution_count": 9,
     "metadata": {},
     "output_type": "execute_result"
    }
   ],
   "source": [
    "qlam = np.ones(13)\n",
    "wlam = np.ones(10)\n",
    "force_lam(*qlam,*wlam,*value_list)"
   ]
  },
  {
   "cell_type": "code",
   "execution_count": 61,
   "id": "c5d2d829-9f9a-4ca1-b7b5-4ad3df19e5dc",
   "metadata": {
    "tags": []
   },
   "outputs": [],
   "source": [
    "def gradient(t, y, args):\n",
    "    y[0:4] = y[0:4]/np.linalg.norm(y[0:4])\n",
    "    y[4:8] = y[4:8]/np.linalg.norm(y[4:8])\n",
    "    y[8:12] = y[8:12]/np.linalg.norm(y[8:12])\n",
    "    \n",
    "    right_hand = force_lam(*y, *args) + te_lam(*y, *args)\n",
    "    sol = np.linalg.solve(mm_lam(*y, *args), right_hand)\n",
    "    return np.array(sol).T[0]"
   ]
  },
  {
   "cell_type": "code",
   "execution_count": 62,
   "id": "6fb71fec-8371-4c24-be99-054d2cfbb7ca",
   "metadata": {
    "tags": []
   },
   "outputs": [],
   "source": [
    "interval = 2.\n",
    "schritte = 100 * int(interval)\n",
    "times = np.linspace(0., interval, schritte)\n",
    "t_span = (0., interval)\n",
    "x0 = data_struct['params']['InitPosOptQuat'][0,0]['initCondQuat'].item()\n",
    "x0t = list(x0.T[0])"
   ]
  },
  {
   "cell_type": "code",
   "execution_count": 79,
   "id": "02b4e8d1-68fa-4b86-826e-86300ce86f4d",
   "metadata": {
    "tags": []
   },
   "outputs": [],
   "source": [
    "state_traj = solve_ivp(gradient, t_span, x0t, t_eval = times, args=(value_list,), method='Radau')\n",
    "\n",
    "\n",
    "# import matplotlib.pyplot as plt\n",
    "# for i in range(10):\n",
    "#     plt.plot(t, state_trajectories[:, i])\n",
    "\n",
    "# plt.xlabel('t')\n",
    "# plt.grid()\n",
    "# plt.show()"
   ]
  },
  {
   "cell_type": "code",
   "execution_count": 81,
   "id": "7856bdea-ccab-461f-990b-7cd3024966be",
   "metadata": {
    "tags": []
   },
   "outputs": [
    {
     "data": {
      "image/png": "[encoded data removed]",
      "text/plain": [
       "<Figure size 640x480 with 1 Axes>"
      ]
     },
     "metadata": {},
     "output_type": "display_data"
    }
   ],
   "source": [
    "import matplotlib.pyplot as plt\n",
    "for i in range(11):\n",
    "    plt.plot(state_traj.t, state_traj.y[i, :])\n",
    "\n",
    "plt.xlabel('t')\n",
    "plt.grid()\n",
    "plt.show()"
   ]
  },
  {
   "cell_type": "code",
   "execution_count": 105,
   "id": "dfb82732-aa5e-4bde-9556-fce85d3a7033",
   "metadata": {
    "tags": []
   },
   "outputs": [],
   "source": [
    "with open('reseq.txt','wb') as f:\n",
    "    pickle.dump(res,f)"
   ]
  },
  {
   "cell_type": "code",
   "execution_count": 7,
   "id": "a0bbcba2-9023-4eaf-9766-086dfd11f7e6",
   "metadata": {
    "tags": []
   },
   "outputs": [],
   "source": [
    "with open('reseq.txt','rb') as f:\n",
    "    newres = pickle.load(f)"
   ]
  },
  {
   "cell_type": "code",
   "execution_count": 219,
   "id": "8dd24440-3ae4-4f38-a77e-62b944c4870e",
   "metadata": {
    "tags": []
   },
   "outputs": [],
   "source": [
    "with open('rovnice.txt', 'r') as f:\n",
    "    serialized_rovnice = f.read()\n",
    "\n",
    "# Deserializace rovnice pomocí sympify\n",
    "rovnice = sp.sympify(serialized_rovnice)"
   ]
  },
  {
   "cell_type": "code",
   "execution_count": 152,
   "id": "33689aac-dcdd-4b86-a517-ed65cecd0afa",
   "metadata": {
    "tags": []
   },
   "outputs": [
    {
     "data": {
      "text/plain": [
       "-0.0081"
      ]
     },
     "execution_count": 152,
     "metadata": {},
     "output_type": "execute_result"
    }
   ],
   "source": [
    "model_struct = sc.io.loadmat('../das3_full_eul_03.mat')\n",
    "mus = model_struct['model_full_eul']['muscles'].item()[0,0]\n",
    "\n",
    "mus['origin_position'].item()[0][0]"
   ]
  },
  {
   "cell_type": "code",
   "execution_count": 148,
   "id": "1f7bb510-f17d-4d5b-a1d9-b9f6ba283910",
   "metadata": {
    "tags": []
   },
   "outputs": [
    {
     "ename": "ValueError",
     "evalue": "can only convert an array of size 1 to a Python scalar",
     "output_type": "error",
     "traceback": [
      "\u001b[1;31m---------------------------------------------------------------------------\u001b[0m",
      "\u001b[1;31mValueError\u001b[0m                                Traceback (most recent call last)",
      "Cell \u001b[1;32mIn[148], line 2\u001b[0m\n\u001b[0;32m      1\u001b[0m jnts \u001b[38;5;241m=\u001b[39m model_struct[\u001b[38;5;124m'\u001b[39m\u001b[38;5;124mmodel_full_eul\u001b[39m\u001b[38;5;124m'\u001b[39m][\u001b[38;5;124m'\u001b[39m\u001b[38;5;124mjoints\u001b[39m\u001b[38;5;124m'\u001b[39m]\u001b[38;5;241m.\u001b[39mitem()\n\u001b[1;32m----> 2\u001b[0m offset_thorax \u001b[38;5;241m=\u001b[39m jnts[\u001b[38;5;241m0\u001b[39m,\u001b[38;5;241m1\u001b[39m][\u001b[38;5;124m'\u001b[39m\u001b[38;5;124mlocation\u001b[39m\u001b[38;5;124m'\u001b[39m]\u001b[38;5;241m.\u001b[39mitem()\u001b[38;5;241m.\u001b[39mitem()\n\u001b[0;32m      3\u001b[0m offset_thorax\n",
      "\u001b[1;31mValueError\u001b[0m: can only convert an array of size 1 to a Python scalar"
     ]
    }
   ],
   "source": [
    "jnts = model_struct['model_full_eul']['joints'].item()\n",
    "offset_thorax = jnts[0,1]['location'].item().item()\n",
    "offset_thorax"
   ]
  }
 ],
 "metadata": {
  "kernelspec": {
   "display_name": "Python (opty_env)",
   "language": "python",
   "name": "myenv"
  },
  "language_info": {
   "codemirror_mode": {
    "name": "ipython",
    "version": 3
   },
   "file_extension": ".py",
   "mimetype": "text/x-python",
   "name": "python",
   "nbconvert_exporter": "python",
   "pygments_lexer": "ipython3",
   "version": "3.12.4"
  }
 },
 "nbformat": 4,
 "nbformat_minor": 5
}
