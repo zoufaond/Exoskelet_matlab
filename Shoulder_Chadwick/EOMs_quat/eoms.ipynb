{
 "cells": [
  {
   "cell_type": "code",
   "execution_count": 1,
   "id": "4253b567-b5a5-4c5c-9734-e21d52c4e327",
   "metadata": {
    "tags": []
   },
   "outputs": [],
   "source": [
    "import sympy as sp\n",
    "import sympy.physics.mechanics as me\n",
    "import sys\n",
    "sys.path.insert(0, \"..\")\n",
    "from importlib import reload\n",
    "import pyMatlabFunctionQ as pyMF\n",
    "reload (pyMF)\n",
    "\n",
    "# symbols\n",
    "t = sp.symbols('t')\n",
    "g,c = sp.symbols('g,c')  # \n",
    "states = ['q','w']\n",
    "segment = ['clavicula','scapula','humerus','ulna','radius','hand']\n",
    "joints = ['quat','quat','quat','rotaxis','weld','weld']\n",
    "inertia = []\n",
    "mass = []\n",
    "com = []\n",
    "offset = []\n",
    "rot_offset = []\n",
    "q = []\n",
    "w = []\n",
    "frame = []\n",
    "point_offset = []\n",
    "masscenter = []\n",
    "inertia_elem = []\n",
    "for i,seg in enumerate(segment):\n",
    "    for j in ('xx','yy','zz'):\n",
    "        inertia.append(sp.symbols('I_' + seg + j))\n",
    "    for j in ('x','y','z'):\n",
    "        com.append(sp.symbols('com_' + seg +'_'+j))\n",
    "        offset.append(sp.symbols('offset_'+seg+'_'+j))\n",
    "        \n",
    "    if joints[i] == 'quat':\n",
    "        for j in ('x','y','z'):\n",
    "            w.append(me.dynamicsymbols('w' + j+ '_' + seg))\n",
    "    elif joints[i] == 'rotaxis':\n",
    "        w.append(me.dynamicsymbols('w_'+ seg))\n",
    "    else:\n",
    "        pass\n",
    "    \n",
    "\n",
    "    if joints[i] == 'quat':\n",
    "        for j in ('0','1','2','3'):\n",
    "            q.append(me.dynamicsymbols('q' + j+ '_' + seg))\n",
    "    elif joints[i] == 'rotaxis':\n",
    "        q.append(me.dynamicsymbols('q_' + seg))\n",
    "    else:\n",
    "        pass\n",
    "\n",
    "    mass.append(sp.symbols('mass_'+seg))\n",
    "    frame.append(me.ReferenceFrame('frame_' + str(seg)))\n",
    "    point_offset.append(me.Point('point_offset_' + str(seg)))\n",
    "    masscenter.append(me.Point('masscenter_' + str(seg)))"
   ]
  },
  {
   "cell_type": "code",
   "execution_count": 2,
   "id": "a9bca251-a066-4a68-9bb3-fc8114e0c67a",
   "metadata": {
    "tags": []
   },
   "outputs": [],
   "source": [
    "# inertial frame and point\n",
    "frame_ground = me.ReferenceFrame('frame_ground')\n",
    "point_ground = me.Point('point_ground')\n",
    "point_ground.set_vel(frame_ground,0)\n",
    "\n",
    "offset_ground = me.Point('offset_ground')\n",
    "offset_thorax = sp.symbols('offset_thoraxx:z')\n",
    "\n",
    "offset_ground.set_pos(point_ground, offset_thorax[0]*frame_ground.x \n",
    "                      + offset_thorax[1]*frame_ground.y + offset_thorax[2]*frame_ground.z)\n",
    "offset_ground.set_vel(frame_ground,0)\n",
    "\n",
    "#rotate first body\n",
    "frame[0].orient(frame_ground, 'Quaternion', q[0:4])\n",
    "frame[0].set_ang_vel(frame_ground,w[0]*frame[0].x + w[1]*frame[0].y + w[2]*frame[0].z)\n",
    "\n",
    "# set masscenter of first body\n",
    "masscenter[0].set_pos(offset_ground,com[0]*frame[0].x + com[1]*frame[0].y + com[2]*frame[0].z)\n",
    "masscenter[0].v2pt_theory(offset_ground,frame_ground,frame[0])\n",
    "\n",
    "# set offset of first joint in first body\n",
    "point_offset[0].set_pos(offset_ground,offset[0]*frame[0].x + offset[1]*frame[0].y + offset[2]*frame[0].z)\n",
    "point_offset[0].v2pt_theory(offset_ground,frame_ground,frame[0])\n",
    "\n",
    "# set gravity force and damping of first body\n",
    "FG = [(masscenter[0], -mass[0] * g * frame_ground.y)]\n",
    "DAMP = [(frame[0], -c*(w[0]*frame[0].x+w[1]*frame[0].y+w[2]*frame[0].z))]\n",
    "kindeq = []\n",
    "# iterate over segments 2:end (first body is already done)\n",
    "for i in range(1,3):\n",
    "\n",
    "    # orient frame w.r.t. child's frame\n",
    "    frame[i].orient(frame[i-1], 'Quaternion', q[0+i*4:4+i*4])\n",
    "    frame[i].set_ang_vel(frame[i-1],w[0+i*3]*frame[i].x + w[1+i*3]*frame[i].y + w[2+i*3]*frame[i].z)\n",
    "        \n",
    "    # set masscenter points \n",
    "    masscenter[i].set_pos(point_offset[i-1],com[0+i*3]*frame[i].x + com[1+i*3]*frame[i].y + com[2+i*3]*frame[i].z)\n",
    "    masscenter[i].v2pt_theory(point_offset[i-1],frame_ground,frame[i])\n",
    "    \n",
    "    # set gravity force in masscenter (-y direction in frame_ground)\n",
    "    FG.append((masscenter[i], -mass[i] * g * frame_ground.y))\n",
    "    \n",
    "    # set offsent points (where the next joint is)\n",
    "    point_offset[i].set_pos(point_offset[i-1],offset[0+i*3]*frame[i].x + offset[1+i*3]*frame[i].y + offset[2+i*3]*frame[i].z)\n",
    "    point_offset[i].v2pt_theory(point_offset[i-1],frame_ground,frame[i])\n",
    "    \n",
    "    # set damping in joints (c * angular_velocity)\n",
    "    damping = -c*(w[0+i*3]*frame[i].x+w[1+i*3]*frame[i].y+w[2+i*3]*frame[i].z)\n",
    "    \n",
    "    # apply damping in frame, opposite moment is applied in previous frame (action and reaction)\n",
    "    DAMP.append((frame[i], damping))\n",
    "    DAMP.append((frame[i-1], -damping))\n",
    "    # set kinematic differential equations (q_dot = f(q,u))\n",
    "    \n",
    "for i in range(0,3):\n",
    "    kindeq.append(q[0+i*4].diff(t) - 0.5 * (-w[0+i*3]*q[1+i*4] - w[1+i*3]*q[2+i*4] - w[2+i*3]*q[3+i*4]))\n",
    "    kindeq.append(q[1+i*4].diff(t) - 0.5 * (w[0+i*3]*q[0+i*4] + w[2+i*3]*q[2+i*4] - w[1+i*3]*q[3+i*4]))\n",
    "    kindeq.append(q[2+i*4].diff(t) - 0.5 * (w[1+i*3]*q[0+i*4] - w[2+i*3]*q[1+i*4] + w[0+i*3]*q[3+i*4]))\n",
    "    kindeq.append(q[3+i*4].diff(t) - 0.5 * (w[2+i*3]*q[0+i*4] + w[1+i*3]*q[1+i*4] - w[0+i*3]*q[2+i*4]))"
   ]
  },
  {
   "cell_type": "code",
   "execution_count": 3,
   "id": "16da21d5-5ecb-49e1-8eb0-8aba40301972",
   "metadata": {
    "tags": []
   },
   "outputs": [],
   "source": [
    "# symbols for ulna\n",
    "offset_humerus_rot = sp.symbols('offset_humerus_rotx:z')\n",
    "ulna_rot_frame = me.ReferenceFrame('ulna_rot_frame')\n",
    "EL_rot_axis = sp.symbols('EL_rot_axisx:z')\n",
    "PSY_rot_axis = sp.symbols('PSY_rot_axisx:z')\n",
    "\n",
    "# offset frame rotated in humerus frame (frame[2])\n",
    "ulna_rot_frame.orient_axis(frame[2],frame[2].z,offset_humerus_rot[2])"
   ]
  },
  {
   "cell_type": "code",
   "execution_count": 4,
   "id": "8ae4c397-f8d9-4013-ac01-c70af7aee2d2",
   "metadata": {
    "tags": []
   },
   "outputs": [],
   "source": [
    "# ulna and elbow joint\n",
    "frame[3].orient_axis(ulna_rot_frame,ulna_rot_frame.x*EL_rot_axis[0]\n",
    "                     +ulna_rot_frame.y*EL_rot_axis[1]+ulna_rot_frame.z*EL_rot_axis[2],\n",
    "                     q[12])\n",
    "\n",
    "frame[3].set_ang_vel(ulna_rot_frame,\n",
    "                      w[9]*(ulna_rot_frame.x*EL_rot_axis[0]+ulna_rot_frame.y*EL_rot_axis[1]\n",
    "                            +ulna_rot_frame.z*EL_rot_axis[2]))\n",
    "\n",
    "masscenter[3].set_pos(point_offset[2],com[0+3*3]*frame[3].x + com[1+3*3]*frame[3].y + com[2+3*3]*frame[3].z)\n",
    "masscenter[3].v2pt_theory(point_offset[2],frame_ground,frame[3])\n",
    "FG.append((masscenter[3], -mass[3] * g * frame_ground.y))"
   ]
  },
  {
   "cell_type": "code",
   "execution_count": 5,
   "id": "240e9224-f53e-4444-8866-48a39885e38f",
   "metadata": {
    "tags": []
   },
   "outputs": [],
   "source": [
    "DAMP.append(((frame[3]),-c*w[9]*(ulna_rot_frame.x*EL_rot_axis[0]+ulna_rot_frame.y*EL_rot_axis[1]\n",
    "                        +ulna_rot_frame.z*EL_rot_axis[2])))\n",
    "DAMP.append((ulna_rot_frame,c*w[9]*(ulna_rot_frame.x*EL_rot_axis[0]+ulna_rot_frame.y*EL_rot_axis[1]\n",
    "                            +ulna_rot_frame.z*EL_rot_axis[2])))\n",
    "kindeq.append(w[9]-q[12].diff(t))"
   ]
  },
  {
   "cell_type": "code",
   "execution_count": 6,
   "id": "b5a446c9-41b8-4054-bfff-bc691cffd901",
   "metadata": {
    "tags": []
   },
   "outputs": [],
   "source": [
    "point_offset[3].set_pos(point_offset[2],offset[0+3*3]*frame[3].x + offset[1+3*3]*frame[3].y + offset[2+3*3]*frame[3].z)\n",
    "point_offset[3].v2pt_theory(point_offset[2],frame_ground,frame[3]);"
   ]
  },
  {
   "cell_type": "code",
   "execution_count": 7,
   "id": "a2543649-0f7d-4ac6-94cf-7a77222b110d",
   "metadata": {
    "tags": []
   },
   "outputs": [
    {
     "data": {
      "text/latex": [
       "$\\displaystyle 0$"
      ],
      "text/plain": [
       "0"
      ]
     },
     "execution_count": 7,
     "metadata": {},
     "output_type": "execute_result"
    }
   ],
   "source": [
    "# radius and PSY joint (weld joint for now)\n",
    "frame[4].orient_axis(frame[3],frame[3].z,0)\n",
    "frame[4].set_ang_vel(frame[3],0)\n",
    "masscenter[4].set_pos(point_offset[3],com[0+4*3]*frame[4].x + com[1+4*3]*frame[4].y + com[2+4*3]*frame[4].z)\n",
    "masscenter[4].v2pt_theory(point_offset[3],frame_ground,frame[4])\n",
    "FG.append((masscenter[4], -mass[4] * g * frame_ground.y))\n",
    "frame[4].ang_vel_in(frame[3])"
   ]
  },
  {
   "cell_type": "code",
   "execution_count": 8,
   "id": "1f13f169-5438-4571-9fd0-a64a90dc2dfc",
   "metadata": {
    "tags": []
   },
   "outputs": [],
   "source": [
    "point_offset[4].set_pos(point_offset[3],offset[0+4*3]*frame[3].x + offset[1+4*3]*frame[3].y + offset[2+4*3]*frame[3].z)\n",
    "point_offset[4].v2pt_theory(point_offset[3],frame_ground,frame[3])\n",
    "\n",
    "# hand\n",
    "frame[5].orient_axis(frame[4],frame[4].z,0)\n",
    "frame[5].set_ang_vel(frame[4],0)\n",
    "masscenter[5].set_pos(point_offset[4],com[0+5*3]*frame[5].x + com[1+5*3]*frame[5].y + com[2+5*3]*frame[5].z)\n",
    "masscenter[5].v2pt_theory(point_offset[4],frame_ground,frame[5])\n",
    "FG.append((masscenter[5], -mass[5] * g * frame_ground.y))\n",
    "\n",
    "BODY = []\n",
    "\n",
    "for i in range(len(segment)):\n",
    "    # set inertias of each body and create RigidBodies\n",
    "    I = me.inertia(frame[i], inertia[0+i*3], inertia[1+i*3], inertia[2+i*3])\n",
    "    BODY.append(me.RigidBody('body' + str(i), masscenter[i], frame[i], mass[i], (I, masscenter[i])))"
   ]
  },
  {
   "cell_type": "code",
   "execution_count": 9,
   "id": "fb59f8b1-68bb-4e37-8e4a-0de228283c87",
   "metadata": {
    "tags": []
   },
   "outputs": [],
   "source": [
    "# Contact between scapula and thorax\n",
    "contTS = sp.symbols('contTS1:4')\n",
    "contAI = sp.symbols('contAI1:4')\n",
    "elips_trans = sp.symbols('elips_trans1:4')\n",
    "elips_dim = sp.symbols('elips_dim1:4')\n",
    "k_contact_in, eps_in = sp.symbols('k_contact_in eps_in')\n",
    "k_contact_out, eps_out = sp.symbols('k_contact_out eps_out')\n",
    "second_elips_dim = sp.Symbol('second_elips_dim')\n",
    "\n",
    "# contact points \n",
    "contact_point1 = me.Point('CP1')\n",
    "contact_point1.set_pos(point_offset[0],contTS[0]*frame[1].x+contTS[1]*frame[1].y  +contTS[2]*frame[1].z)\n",
    "# contact_point1.set_vel(scapula.frame,0) # point is fixed in scapula\n",
    "contact_point1.v2pt_theory(point_offset[0],frame_ground,frame[1])\n",
    "\n",
    "contact_point2 = me.Point('CP2')\n",
    "contact_point2.set_pos(point_offset[0],contAI[0]*frame[1].x+contAI[1]*frame[1].y  +contAI[2]*frame[1].z)\n",
    "# contact_point2.set_vel(scapula.frame,0) # point is fixed in scapula\n",
    "contact_point2.v2pt_theory(point_offset[0],frame_ground,frame[1])\n",
    "\n",
    "## contact forces\n",
    "\n",
    "# Distances between contact points and thorax frame\n",
    "x_pos1 = contact_point1.pos_from(point_ground).dot(frame_ground.x)\n",
    "y_pos1 = contact_point1.pos_from(point_ground).dot(frame_ground.y)\n",
    "z_pos1 = contact_point1.pos_from(point_ground).dot(frame_ground.z)\n",
    "x_pos2 = contact_point2.pos_from(point_ground).dot(frame_ground.x)\n",
    "y_pos2 = contact_point2.pos_from(point_ground).dot(frame_ground.y)\n",
    "z_pos2 = contact_point2.pos_from(point_ground).dot(frame_ground.z)\n",
    "\n",
    "# Contact forces\n",
    "f1_in = ((x_pos1-elips_trans[0])/elips_dim[0])**2+((y_pos1-elips_trans[1])/elips_dim[1])**2+((z_pos1-elips_trans[2])/elips_dim[2])**2-1\n",
    "f1_out = ((x_pos1-elips_trans[0])/(second_elips_dim*elips_dim[0]))**2+((y_pos1-elips_trans[1])/(second_elips_dim*elips_dim[1]))**2+((z_pos1-elips_trans[2])/(second_elips_dim*elips_dim[2]))**2-1\n",
    "F1_in = 1/2*(f1_in-sp.sqrt(f1_in**2+eps_in**2))\n",
    "F1_out = 1/2*(f1_out+sp.sqrt(f1_out**2+eps_out**2))\n",
    "Fx1 = -(k_contact_in*F1_in+k_contact_out*F1_out)*(x_pos1-elips_trans[0])*(elips_dim[0]**2+elips_dim[1]**2+elips_dim[2]**2)/(elips_dim[0]**2)\n",
    "Fy1 = -(k_contact_in*F1_in+k_contact_out*F1_out)*(y_pos1-elips_trans[1])*(elips_dim[0]**2+elips_dim[1]**2+elips_dim[2]**2)/(elips_dim[1]**2)\n",
    "Fz1 = -(k_contact_in*F1_in+k_contact_out*F1_out)*(z_pos1-elips_trans[2])*(elips_dim[0]**2+elips_dim[1]**2+elips_dim[2]**2)/(elips_dim[2]**2)\n",
    "\n",
    "f2_in = ((x_pos2-elips_trans[0])/elips_dim[0])**2+((y_pos2-elips_trans[1])/elips_dim[1])**2+((z_pos2-elips_trans[2])/elips_dim[2])**2-1\n",
    "f2_out = ((x_pos2-elips_trans[0])/(second_elips_dim*elips_dim[0]))**2+((y_pos2-elips_trans[1])/(second_elips_dim*elips_dim[1]))**2+((z_pos2-elips_trans[2])/(second_elips_dim*elips_dim[2]))**2-1\n",
    "F2_in = 1/2*(f2_in-sp.sqrt(f2_in**2+eps_in**2))\n",
    "F2_out = 1/2*(f2_out+sp.sqrt(f2_out**2+eps_out**2))\n",
    "Fx2 = -(k_contact_in*F2_in+k_contact_out*F2_out)*(x_pos2-elips_trans[0])*(elips_dim[0]**2+elips_dim[1]**2+elips_dim[2]**2)/(elips_dim[0]**2)\n",
    "Fy2 = -(k_contact_in*F2_in+k_contact_out*F2_out)*(y_pos2-elips_trans[1])*(elips_dim[0]**2+elips_dim[1]**2+elips_dim[2]**2)/(elips_dim[1]**2)\n",
    "Fz2 = -(k_contact_in*F2_in+k_contact_out*F2_out)*(z_pos2-elips_trans[2])*(elips_dim[0]**2+elips_dim[1]**2+elips_dim[2]**2)/(elips_dim[2]**2)\n",
    "\n",
    "# applying contact forces to contact points in thorax frame\n",
    "# scapula.apply_force(thorax.x*Fx1+thorax.y*Fy1+thorax.z*Fz1,contact_point1)\n",
    "# scapula.apply_force(thorax.x*Fx2+thorax.y*Fy2+thorax.z*Fz2,contact_point2)\n",
    "\n",
    "cont_force1 = [(contact_point1,frame_ground.x*Fx1+frame_ground.y*Fy1+frame_ground.z*Fz1)]\n",
    "cont_force2 = [(contact_point2,frame_ground.x*Fx2+frame_ground.y*Fy2+frame_ground.z*Fz2)]\n",
    "CONT = cont_force1+cont_force2\n"
   ]
  },
  {
   "cell_type": "code",
   "execution_count": 10,
   "id": "abfbd923-7278-4864-af80-00e8b0fb7244",
   "metadata": {
    "tags": []
   },
   "outputs": [],
   "source": [
    "KM = me.KanesMethod(frame_ground, q_ind=q, u_ind=w, kd_eqs=kindeq)\n",
    "(fr, frstar) = KM.kanes_equations(BODY, (FG+DAMP+CONT))"
   ]
  },
  {
   "cell_type": "code",
   "execution_count": 11,
   "id": "9c6e5d6c-3f09-4b31-a99b-bcabb899f8c1",
   "metadata": {
    "tags": []
   },
   "outputs": [],
   "source": [
    "import pyMatlabFunctionQ as pyMF\n",
    "reload (pyMF)\n",
    "body_constants = {'I_': inertia,'mass_':mass,'com_':com,'offset_':offset,'c': c,'g': g}\n",
    "other_constants = {'offset_humerus_rot':list(offset_humerus_rot),'EL_rot_axis': list(EL_rot_axis),\n",
    "                    'k_contact_in': k_contact_in,'eps_in': eps_in,'contTS': list(contTS),\n",
    "                    'contAI': list(contAI), 'elips_trans':list(elips_trans), 'elips_dim':list(elips_dim),\n",
    "                    'k_contact_out': k_contact_out,'eps_out': eps_out, 'second_elips_dim': second_elips_dim,\n",
    "                    'offset_thorax': list(offset_thorax)}\n",
    "usubs = sp.symbols('u1:11')\n",
    "qsubs = sp.symbols('q0:13')\n",
    "\n",
    "states = [qsubs,usubs]\n",
    "subs_q = {q[i]: qsubs[i] for i in range(len(q))}\n",
    "subs_u = {w[i]: usubs[i] for i in range(len(w))}\n",
    "mm = me.msubs(KM.mass_matrix_full,subs_q,subs_u)\n",
    "fo = me.msubs(KM.forcing_full,subs_q,subs_u)\n",
    "\n",
    "pyMF.MatlabFunction(function = mm,\n",
    "                    fun_name = 'mm_Q',assignto = 'mm',\n",
    "                    states = states,body_constants = body_constants,segments = segment,other_constants=other_constants)\n",
    "pyMF.MatlabFunction(function = fo,\n",
    "                    fun_name = 'fo_Q',assignto = 'fo',\n",
    "                    states = states,body_constants = body_constants,segments = segment,other_constants=other_constants)"
   ]
  },
  {
   "cell_type": "code",
   "execution_count": null,
   "id": "09c5a70a-f9c5-4cb2-905f-5a3012e20a33",
   "metadata": {},
   "outputs": [],
   "source": []
  }
 ],
 "metadata": {
  "kernelspec": {
   "display_name": "Python (opty_env)",
   "language": "python",
   "name": "myenv"
  },
  "language_info": {
   "codemirror_mode": {
    "name": "ipython",
    "version": 3
   },
   "file_extension": ".py",
   "mimetype": "text/x-python",
   "name": "python",
   "nbconvert_exporter": "python",
   "pygments_lexer": "ipython3",
   "version": "3.12.4"
  }
 },
 "nbformat": 4,
 "nbformat_minor": 5
}
