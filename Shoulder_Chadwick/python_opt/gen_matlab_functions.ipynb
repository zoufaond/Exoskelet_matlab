{
 "cells": [
  {
   "cell_type": "code",
   "execution_count": 29,
   "metadata": {},
   "outputs": [],
   "source": [
    "from opty import Problem, create_objective_function, parse_free\n",
    "import sympy as sp\n",
    "import numpy as np\n",
    "import scipy as sc\n",
    "import time as tm\n",
    "import pickle\n",
    "import sympy.physics.mechanics as me\n",
    "import sys\n",
    "sys.path.insert(0, \"..\")\n",
    "from importlib import reload\n",
    "import equations as eq\n",
    "reload (eq);\n",
    "# load structs\n",
    "\n",
    "data_struct = sc.io.loadmat('../data_model.mat')\n",
    "initPos = 'InitPosOptEul'\n",
    "motion_folder = 'Scabduction_noised'\n",
    "motion_name = 'scabduction_GL.mat'\n",
    "model_struct = sc.io.loadmat('../Motions/'+motion_folder+'/OS_model.mat')"
   ]
  },
  {
   "cell_type": "code",
   "execution_count": 27,
   "metadata": {},
   "outputs": [],
   "source": [
    "q = eq.create_eoms_eul(model_struct,data_struct,initPos,derive = 'symbolic',gen_matlab_functions = 1)\n",
    "_ = eq.polynomials_euler(model_struct,q,derive = 'symbolic',model_params_struct = data_struct,motion_folder=motion_folder,gen_matlab_functions = 1)"
   ]
  },
  {
   "cell_type": "code",
   "execution_count": 30,
   "metadata": {},
   "outputs": [],
   "source": [
    "motion_folder = 'Scabduction_noised'\n",
    "motion_name = 'scabduction_GL.mat'\n",
    "model_struct = sc.io.loadmat('../Motions/'+motion_folder+'/OS_model.mat')\n",
    "# generate euler model\n",
    "# MM,FO,q,u,fr,frstar,kindeq,xdot = eq.create_eoms_eul(model_struct,data_struct,derive = 'symbolic',gen_matlab_functions = 1)\n",
    "q = eq.create_eoms_u0state(model_struct,data_struct,initPos,derive = 'symbolic',gen_matlab_functions = 1)\n",
    "\n",
    "_ = eq.polynomials_quat(model_struct,q,derive = 'symbolic',model_params_struct = data_struct,motion_folder=motion_folder,gen_matlab_functions = 1)"
   ]
  },
  {
   "cell_type": "code",
   "execution_count": 11,
   "metadata": {},
   "outputs": [
    {
     "name": "stdout",
     "output_type": "stream",
     "text": [
      "matlab functions generated\n"
     ]
    },
    {
     "ename": "NameError",
     "evalue": "name 'TE' is not defined",
     "output_type": "error",
     "traceback": [
      "\u001b[1;31m---------------------------------------------------------------------------\u001b[0m",
      "\u001b[1;31mNameError\u001b[0m                                 Traceback (most recent call last)",
      "Cell \u001b[1;32mIn[11], line 3\u001b[0m\n\u001b[0;32m      1\u001b[0m model_struct \u001b[38;5;241m=\u001b[39m sc\u001b[38;5;241m.\u001b[39mio\u001b[38;5;241m.\u001b[39mloadmat(\u001b[38;5;124m'\u001b[39m\u001b[38;5;124m../das3_quat_abd.mat\u001b[39m\u001b[38;5;124m'\u001b[39m)\n\u001b[0;32m      2\u001b[0m \u001b[38;5;66;03m# generate quaternion model\u001b[39;00m\n\u001b[1;32m----> 3\u001b[0m _,_,_,_,_,_,_,_,_,_,_  \u001b[38;5;241m=\u001b[39m eq\u001b[38;5;241m.\u001b[39mcreate_eoms_quat(model_struct,data_struct,initPos,derive \u001b[38;5;241m=\u001b[39m \u001b[38;5;124m'\u001b[39m\u001b[38;5;124msymbolic\u001b[39m\u001b[38;5;124m'\u001b[39m,gen_matlab_functions \u001b[38;5;241m=\u001b[39m \u001b[38;5;241m1\u001b[39m)\n",
      "File \u001b[1;32mc:\\Users\\zoufi\\Documents\\MATLAB\\Shoulder\\Shoulder_Chadwick\\Python\\equations.py:874\u001b[0m, in \u001b[0;36mcreate_eoms_quat\u001b[1;34m(model_struct, model_params_struct, initCond_name, derive, gen_matlab_functions)\u001b[0m\n\u001b[0;32m    859\u001b[0m     MatlabFunction(function \u001b[38;5;241m=\u001b[39m fo,\n\u001b[0;32m    860\u001b[0m                    fun_name \u001b[38;5;241m=\u001b[39m \u001b[38;5;124m'\u001b[39m\u001b[38;5;124mfo_quat\u001b[39m\u001b[38;5;124m'\u001b[39m,assignto \u001b[38;5;241m=\u001b[39m \u001b[38;5;124m'\u001b[39m\u001b[38;5;124mfo\u001b[39m\u001b[38;5;124m'\u001b[39m,\n\u001b[0;32m    861\u001b[0m                    coordinates \u001b[38;5;241m=\u001b[39m qsubs,\n\u001b[1;32m   (...)\u001b[0m\n\u001b[0;32m    868\u001b[0m                    parameters \u001b[38;5;241m=\u001b[39m [first_elips_scale],\n\u001b[0;32m    869\u001b[0m                    folder \u001b[38;5;241m=\u001b[39m \u001b[38;5;124m'\u001b[39m\u001b[38;5;124mquaternion\u001b[39m\u001b[38;5;124m'\u001b[39m)\n\u001b[0;32m    871\u001b[0m \u001b[38;5;28mprint\u001b[39m(\u001b[38;5;124m'\u001b[39m\u001b[38;5;124mmatlab functions generated\u001b[39m\u001b[38;5;124m'\u001b[39m)\n\u001b[1;32m--> 874\u001b[0m \u001b[38;5;28;01mreturn\u001b[39;00m MM,FO,TE,q,w,fr,frstar,kindeq,xdot,constraints,activations\n",
      "\u001b[1;31mNameError\u001b[0m: name 'TE' is not defined"
     ]
    }
   ],
   "source": [
    "model_struct = sc.io.loadmat('../das3_quat_abd.mat')\n",
    "# generate quaternion model\n",
    "_,_,_,_,_,_,_,_,_,_,_  = eq.create_eoms_quat(model_struct,data_struct,initPos,derive = 'symbolic',gen_matlab_functions = 1)\n"
   ]
  },
  {
   "cell_type": "code",
   "execution_count": 15,
   "metadata": {},
   "outputs": [
    {
     "data": {
      "text/plain": [
       "(u1, u2, u3, u4, u5, u6, u7, u8, u9, u10)"
      ]
     },
     "execution_count": 15,
     "metadata": {},
     "output_type": "execute_result"
    }
   ],
   "source": [
    "sp.symbols('u1:11')"
   ]
  }
 ],
 "metadata": {
  "kernelspec": {
   "display_name": "opty_env",
   "language": "python",
   "name": "python3"
  },
  "language_info": {
   "codemirror_mode": {
    "name": "ipython",
    "version": 3
   },
   "file_extension": ".py",
   "mimetype": "text/x-python",
   "name": "python",
   "nbconvert_exporter": "python",
   "pygments_lexer": "ipython3",
   "version": "3.12.7"
  }
 },
 "nbformat": 4,
 "nbformat_minor": 2
}
