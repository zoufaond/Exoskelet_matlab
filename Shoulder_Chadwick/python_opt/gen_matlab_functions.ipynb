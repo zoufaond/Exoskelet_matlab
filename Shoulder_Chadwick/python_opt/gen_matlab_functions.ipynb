{
 "cells": [
  {
   "cell_type": "code",
   "execution_count": 24,
   "metadata": {},
   "outputs": [],
   "source": [
    "from opty import Problem, create_objective_function, parse_free\n",
    "import sympy as sp\n",
    "import numpy as np\n",
    "import scipy as sc\n",
    "import time as tm\n",
    "import pickle\n",
    "import sympy.physics.mechanics as me\n",
    "import sys\n",
    "sys.path.insert(0, \"..\")\n",
    "from importlib import reload\n",
    "import equations as eq\n",
    "reload (eq);\n",
    "# load structs\n",
    "\n",
    "data_struct = sc.io.loadmat('../data_model.mat')\n",
    "initPos = 'InitPosOptEul'\n",
    "motion_folder = 'Scabduction_noised'\n",
    "motion_name = 'scabduction_GL.mat'\n",
    "model_struct = sc.io.loadmat('../Motions/'+motion_folder+'/OS_model.mat')"
   ]
  },
  {
   "cell_type": "code",
   "execution_count": 2,
   "metadata": {},
   "outputs": [],
   "source": [
    "q = eq.create_eoms_eul(model_struct,data_struct,initPos,derive = 'symbolic',gen_matlab_functions = 1)\n",
    "_ = eq.polynomials_euler(model_struct,q,derive = 'symbolic',model_params_struct = data_struct,motion_folder=motion_folder,gen_matlab_functions = 1)"
   ]
  },
  {
   "cell_type": "code",
   "execution_count": 16,
   "metadata": {},
   "outputs": [
    {
     "ename": "TypeError",
     "evalue": "create_eoms_eul() missing 1 required positional argument: 'initCond_name'",
     "output_type": "error",
     "traceback": [
      "\u001b[0;31m---------------------------------------------------------------------------\u001b[0m",
      "\u001b[0;31mTypeError\u001b[0m                                 Traceback (most recent call last)",
      "Cell \u001b[0;32mIn[16], line 7\u001b[0m\n\u001b[1;32m      5\u001b[0m model_struct \u001b[38;5;241m=\u001b[39m sc\u001b[38;5;241m.\u001b[39mio\u001b[38;5;241m.\u001b[39mloadmat(\u001b[38;5;124m'\u001b[39m\u001b[38;5;124m../Motions/\u001b[39m\u001b[38;5;124m'\u001b[39m\u001b[38;5;241m+\u001b[39mmotion_folder\u001b[38;5;241m+\u001b[39m\u001b[38;5;124m'\u001b[39m\u001b[38;5;124m/OS_model.mat\u001b[39m\u001b[38;5;124m'\u001b[39m)\n\u001b[1;32m      6\u001b[0m \u001b[38;5;66;03m# generate euler model\u001b[39;00m\n\u001b[0;32m----> 7\u001b[0m MM,FO,q,u,fr,frstar,kindeq,xdot \u001b[38;5;241m=\u001b[39m \u001b[43meq\u001b[49m\u001b[38;5;241;43m.\u001b[39;49m\u001b[43mcreate_eoms_eul\u001b[49m\u001b[43m(\u001b[49m\u001b[43mmodel_struct\u001b[49m\u001b[43m,\u001b[49m\u001b[43mdata_struct\u001b[49m\u001b[43m,\u001b[49m\u001b[43mderive\u001b[49m\u001b[43m \u001b[49m\u001b[38;5;241;43m=\u001b[39;49m\u001b[43m \u001b[49m\u001b[38;5;124;43m'\u001b[39;49m\u001b[38;5;124;43msymbolic\u001b[39;49m\u001b[38;5;124;43m'\u001b[39;49m\u001b[43m,\u001b[49m\u001b[43mgen_matlab_functions\u001b[49m\u001b[43m \u001b[49m\u001b[38;5;241;43m=\u001b[39;49m\u001b[43m \u001b[49m\u001b[38;5;241;43m1\u001b[39;49m\u001b[43m)\u001b[49m\n\u001b[1;32m      8\u001b[0m \u001b[38;5;66;03m# q = eq.create_eoms_u0state(model_struct,data_struct,initPos,derive = 'symbolic',gen_matlab_functions = 1)\u001b[39;00m\n\u001b[1;32m     10\u001b[0m _,_,conoid \u001b[38;5;241m=\u001b[39m eq\u001b[38;5;241m.\u001b[39mpolynomials_quat(model_struct,q,derive \u001b[38;5;241m=\u001b[39m \u001b[38;5;124m'\u001b[39m\u001b[38;5;124msymbolic\u001b[39m\u001b[38;5;124m'\u001b[39m,model_params_struct \u001b[38;5;241m=\u001b[39m data_struct,motion_folder\u001b[38;5;241m=\u001b[39mmotion_folder,gen_matlab_functions \u001b[38;5;241m=\u001b[39m \u001b[38;5;241m1\u001b[39m)\n",
      "\u001b[0;31mTypeError\u001b[0m: create_eoms_eul() missing 1 required positional argument: 'initCond_name'"
     ]
    }
   ],
   "source": [
    "motion_folder = 'Scabduction_noised'\n",
    "motion_name = 'scabduction_GL.mat'\n",
    "model_struct = sc.io.loadmat('../Motions/'+motion_folder+'/OS_model.mat')\n",
    "# generate euler model\n",
    "# MM,FO,q,u,fr,frstar,kindeq,xdot = eq.create_eoms_eul(model_struct,data_struct,derive = 'symbolic',gen_matlab_functions = 1)\n",
    "q = eq.create_eoms_u0state(model_struct,data_struct,initPos,derive = 'symbolic',gen_matlab_functions = 1)\n",
    "\n",
    "_ = eq.polynomials_quat(model_struct,q,derive = 'symbolic',model_params_struct = data_struct,motion_folder=motion_folder,gen_matlab_functions = 1)"
   ]
  },
  {
   "cell_type": "code",
   "execution_count": 20,
   "metadata": {},
   "outputs": [
    {
     "name": "stdout",
     "output_type": "stream",
     "text": [
      "matlab functions generated\n"
     ]
    }
   ],
   "source": [
    "import equations as eq\n",
    "reload (eq);\n",
    "# model_struct = sc.io.loadmat('../das3_quat_abd.mat')\n",
    "# generate quaternion model\n",
    "_  = eq.create_eoms_quat(data_struct,derive = 'symbolic',gen_matlab_functions = 1)\n"
   ]
  },
  {
   "cell_type": "code",
   "execution_count": 23,
   "metadata": {},
   "outputs": [
    {
     "name": "stdout",
     "output_type": "stream",
     "text": [
      "Matrix([[-2*x3**2 - 2*x4**2 + 1], [2*x1*x4 + 2*x2*x3], [-2*x1*x3 + 2*x2*x4], [1]])\n"
     ]
    }
   ],
   "source": [
    "import equations as eq\n",
    "reload (eq);\n",
    "a = eq.custom_objective_quat(20,0.1)"
   ]
  },
  {
   "cell_type": "code",
   "execution_count": 36,
   "metadata": {},
   "outputs": [
    {
     "name": "stdout",
     "output_type": "stream",
     "text": [
      "ll found 1 3\n",
      "ll found 10 12\n",
      "ll found 16 18\n"
     ]
    }
   ],
   "source": [
    "import re\n",
    "text = 'Allowed Hello Hollow'\n",
    "for m in re.finditer('ll', text):\n",
    "         print('ll found', m.start(), m.end())"
   ]
  },
  {
   "cell_type": "code",
   "execution_count": 29,
   "metadata": {},
   "outputs": [
    {
     "data": {
      "text/plain": [
       "'1\\n'"
      ]
     },
     "execution_count": 29,
     "metadata": {},
     "output_type": "execute_result"
    }
   ],
   "source": [
    "cap.stdout"
   ]
  }
 ],
 "metadata": {
  "kernelspec": {
   "display_name": "opty-env",
   "language": "python",
   "name": "python3"
  },
  "language_info": {
   "codemirror_mode": {
    "name": "ipython",
    "version": 3
   },
   "file_extension": ".py",
   "mimetype": "text/x-python",
   "name": "python",
   "nbconvert_exporter": "python",
   "pygments_lexer": "ipython3",
   "version": "3.12.7"
  }
 },
 "nbformat": 4,
 "nbformat_minor": 2
}
